{
 "cells": [
  {
   "cell_type": "code",
   "execution_count": null,
   "id": "04d8a991",
   "metadata": {},
   "outputs": [],
   "source": [
    "import pandas as pd\n",
    "from sklearn.model_selection import train_test_split\n",
    "from sklearn.linear_model import LinearRegression\n",
    "from sklearn import metrics\n",
    "import matplotlib.pyplot as plt\n",
    "import numpy as np\n",
    "import seaborn as sns"
   ]
  },
  {
   "cell_type": "code",
   "execution_count": 7,
   "id": "8f47c6a5",
   "metadata": {},
   "outputs": [],
   "source": [
    "df = pd.read_csv('WineQuality.csv')"
   ]
  },
  {
   "cell_type": "code",
   "execution_count": 8,
   "id": "835ec149",
   "metadata": {},
   "outputs": [
    {
     "data": {
      "text/html": [
       "<div>\n",
       "<style scoped>\n",
       "    .dataframe tbody tr th:only-of-type {\n",
       "        vertical-align: middle;\n",
       "    }\n",
       "\n",
       "    .dataframe tbody tr th {\n",
       "        vertical-align: top;\n",
       "    }\n",
       "\n",
       "    .dataframe thead th {\n",
       "        text-align: right;\n",
       "    }\n",
       "</style>\n",
       "<table border=\"1\" class=\"dataframe\">\n",
       "  <thead>\n",
       "    <tr style=\"text-align: right;\">\n",
       "      <th></th>\n",
       "      <th>fixed acidity</th>\n",
       "      <th>volatile acidity</th>\n",
       "      <th>citric acid</th>\n",
       "      <th>residual sugar</th>\n",
       "      <th>chlorides</th>\n",
       "      <th>free sulfur dioxide</th>\n",
       "      <th>total sulfur dioxide</th>\n",
       "      <th>density</th>\n",
       "      <th>pH</th>\n",
       "      <th>sulphates</th>\n",
       "      <th>alcohol</th>\n",
       "      <th>quality</th>\n",
       "    </tr>\n",
       "  </thead>\n",
       "  <tbody>\n",
       "    <tr>\n",
       "      <th>0</th>\n",
       "      <td>7.4</td>\n",
       "      <td>0.70</td>\n",
       "      <td>0.00</td>\n",
       "      <td>1.9</td>\n",
       "      <td>0.076</td>\n",
       "      <td>11.0</td>\n",
       "      <td>34.0</td>\n",
       "      <td>0.9978</td>\n",
       "      <td>3.51</td>\n",
       "      <td>0.56</td>\n",
       "      <td>9.4</td>\n",
       "      <td>5</td>\n",
       "    </tr>\n",
       "    <tr>\n",
       "      <th>1</th>\n",
       "      <td>7.8</td>\n",
       "      <td>0.88</td>\n",
       "      <td>0.00</td>\n",
       "      <td>2.6</td>\n",
       "      <td>0.098</td>\n",
       "      <td>25.0</td>\n",
       "      <td>67.0</td>\n",
       "      <td>0.9968</td>\n",
       "      <td>3.20</td>\n",
       "      <td>0.68</td>\n",
       "      <td>9.8</td>\n",
       "      <td>5</td>\n",
       "    </tr>\n",
       "    <tr>\n",
       "      <th>2</th>\n",
       "      <td>7.8</td>\n",
       "      <td>0.76</td>\n",
       "      <td>0.04</td>\n",
       "      <td>2.3</td>\n",
       "      <td>0.092</td>\n",
       "      <td>15.0</td>\n",
       "      <td>54.0</td>\n",
       "      <td>0.9970</td>\n",
       "      <td>3.26</td>\n",
       "      <td>0.65</td>\n",
       "      <td>9.8</td>\n",
       "      <td>5</td>\n",
       "    </tr>\n",
       "    <tr>\n",
       "      <th>3</th>\n",
       "      <td>11.2</td>\n",
       "      <td>0.28</td>\n",
       "      <td>0.56</td>\n",
       "      <td>1.9</td>\n",
       "      <td>0.075</td>\n",
       "      <td>17.0</td>\n",
       "      <td>60.0</td>\n",
       "      <td>0.9980</td>\n",
       "      <td>3.16</td>\n",
       "      <td>0.58</td>\n",
       "      <td>9.8</td>\n",
       "      <td>6</td>\n",
       "    </tr>\n",
       "    <tr>\n",
       "      <th>4</th>\n",
       "      <td>7.4</td>\n",
       "      <td>0.70</td>\n",
       "      <td>0.00</td>\n",
       "      <td>1.9</td>\n",
       "      <td>0.076</td>\n",
       "      <td>11.0</td>\n",
       "      <td>34.0</td>\n",
       "      <td>0.9978</td>\n",
       "      <td>3.51</td>\n",
       "      <td>0.56</td>\n",
       "      <td>9.4</td>\n",
       "      <td>5</td>\n",
       "    </tr>\n",
       "  </tbody>\n",
       "</table>\n",
       "</div>"
      ],
      "text/plain": [
       "   fixed acidity  volatile acidity  citric acid  residual sugar  chlorides  \\\n",
       "0            7.4              0.70         0.00             1.9      0.076   \n",
       "1            7.8              0.88         0.00             2.6      0.098   \n",
       "2            7.8              0.76         0.04             2.3      0.092   \n",
       "3           11.2              0.28         0.56             1.9      0.075   \n",
       "4            7.4              0.70         0.00             1.9      0.076   \n",
       "\n",
       "   free sulfur dioxide  total sulfur dioxide  density    pH  sulphates  \\\n",
       "0                 11.0                  34.0   0.9978  3.51       0.56   \n",
       "1                 25.0                  67.0   0.9968  3.20       0.68   \n",
       "2                 15.0                  54.0   0.9970  3.26       0.65   \n",
       "3                 17.0                  60.0   0.9980  3.16       0.58   \n",
       "4                 11.0                  34.0   0.9978  3.51       0.56   \n",
       "\n",
       "   alcohol  quality  \n",
       "0      9.4        5  \n",
       "1      9.8        5  \n",
       "2      9.8        5  \n",
       "3      9.8        6  \n",
       "4      9.4        5  "
      ]
     },
     "execution_count": 8,
     "metadata": {},
     "output_type": "execute_result"
    }
   ],
   "source": [
    "df.head()"
   ]
  },
  {
   "attachments": {},
   "cell_type": "markdown",
   "id": "187fcc37",
   "metadata": {},
   "source": [
    "##### there are no categorical variables. each feature is a number. Regression problem. \n",
    "#### Given the set of values for features, we have to predict the quality of wine.\n",
    "#### finding correlation of each feature with our target variable - quality"
   ]
  },
  {
   "cell_type": "code",
   "execution_count": 10,
   "id": "b4d7b08a",
   "metadata": {},
   "outputs": [
    {
     "name": "stdout",
     "output_type": "stream",
     "text": [
      "fixed acidity           0.127766\n",
      "volatile acidity       -0.391735\n",
      "citric acid             0.233733\n",
      "residual sugar          0.016464\n",
      "chlorides              -0.119770\n",
      "free sulfur dioxide    -0.048641\n",
      "total sulfur dioxide   -0.185404\n",
      "density                -0.173251\n",
      "pH                     -0.063373\n",
      "sulphates               0.270777\n",
      "alcohol                 0.480738\n",
      "Name: quality, dtype: float64\n"
     ]
    }
   ],
   "source": [
    "correlations = df.corr()['quality'].drop('quality')\n",
    "print(correlations)"
   ]
  },
  {
   "cell_type": "code",
   "execution_count": 11,
   "id": "08dbefdc",
   "metadata": {},
   "outputs": [
    {
     "data": {
      "image/png": "[encoded data removed]",
      "text/plain": [
       "<Figure size 640x480 with 2 Axes>"
      ]
     },
     "metadata": {},
     "output_type": "display_data"
    }
   ],
   "source": [
    "sns.heatmap(df.corr())\n",
    "plt.show()"
   ]
  },
  {
   "cell_type": "code",
   "execution_count": 12,
   "id": "a766248c",
   "metadata": {},
   "outputs": [],
   "source": [
    "def get_features(correlation_threshold):\n",
    "    abs_corrs = correlations.abs()\n",
    "    high_correlations = abs_corrs[abs_corrs > correlation_threshold].index.values.tolist()\n",
    "    return high_correlations"
   ]
  },
  {
   "attachments": {},
   "cell_type": "markdown",
   "id": "8e039f54",
   "metadata": {},
   "source": [
    "##### taking features with correlation more than 0.05 as input x and quality as target variable y"
   ]
  },
  {
   "cell_type": "code",
   "execution_count": 13,
   "id": "209fdbe1",
   "metadata": {},
   "outputs": [
    {
     "name": "stdout",
     "output_type": "stream",
     "text": [
      "['fixed acidity', 'volatile acidity', 'citric acid', 'chlorides', 'total sulfur dioxide', 'density', 'pH', 'sulphates', 'alcohol']\n"
     ]
    }
   ],
   "source": [
    "features = get_features(0.05)\n",
    "print(features)\n",
    "x = df[features]\n",
    "y = df['quality']"
   ]
  },
  {
   "cell_type": "code",
   "execution_count": 14,
   "id": "cc5ef4b6",
   "metadata": {},
   "outputs": [
    {
     "data": {
      "text/html": [
       "<div>\n",
       "<style scoped>\n",
       "    .dataframe tbody tr th:only-of-type {\n",
       "        vertical-align: middle;\n",
       "    }\n",
       "\n",
       "    .dataframe tbody tr th {\n",
       "        vertical-align: top;\n",
       "    }\n",
       "\n",
       "    .dataframe thead th {\n",
       "        text-align: right;\n",
       "    }\n",
       "</style>\n",
       "<table border=\"1\" class=\"dataframe\">\n",
       "  <thead>\n",
       "    <tr style=\"text-align: right;\">\n",
       "      <th></th>\n",
       "      <th>fixed acidity</th>\n",
       "      <th>volatile acidity</th>\n",
       "      <th>citric acid</th>\n",
       "      <th>chlorides</th>\n",
       "      <th>total sulfur dioxide</th>\n",
       "      <th>density</th>\n",
       "      <th>pH</th>\n",
       "      <th>sulphates</th>\n",
       "      <th>alcohol</th>\n",
       "    </tr>\n",
       "  </thead>\n",
       "  <tbody>\n",
       "    <tr>\n",
       "      <th>0</th>\n",
       "      <td>7.4</td>\n",
       "      <td>0.700</td>\n",
       "      <td>0.00</td>\n",
       "      <td>0.076</td>\n",
       "      <td>34.0</td>\n",
       "      <td>0.99780</td>\n",
       "      <td>3.51</td>\n",
       "      <td>0.56</td>\n",
       "      <td>9.4</td>\n",
       "    </tr>\n",
       "    <tr>\n",
       "      <th>1</th>\n",
       "      <td>7.8</td>\n",
       "      <td>0.880</td>\n",
       "      <td>0.00</td>\n",
       "      <td>0.098</td>\n",
       "      <td>67.0</td>\n",
       "      <td>0.99680</td>\n",
       "      <td>3.20</td>\n",
       "      <td>0.68</td>\n",
       "      <td>9.8</td>\n",
       "    </tr>\n",
       "    <tr>\n",
       "      <th>2</th>\n",
       "      <td>7.8</td>\n",
       "      <td>0.760</td>\n",
       "      <td>0.04</td>\n",
       "      <td>0.092</td>\n",
       "      <td>54.0</td>\n",
       "      <td>0.99700</td>\n",
       "      <td>3.26</td>\n",
       "      <td>0.65</td>\n",
       "      <td>9.8</td>\n",
       "    </tr>\n",
       "    <tr>\n",
       "      <th>3</th>\n",
       "      <td>11.2</td>\n",
       "      <td>0.280</td>\n",
       "      <td>0.56</td>\n",
       "      <td>0.075</td>\n",
       "      <td>60.0</td>\n",
       "      <td>0.99800</td>\n",
       "      <td>3.16</td>\n",
       "      <td>0.58</td>\n",
       "      <td>9.8</td>\n",
       "    </tr>\n",
       "    <tr>\n",
       "      <th>4</th>\n",
       "      <td>7.4</td>\n",
       "      <td>0.700</td>\n",
       "      <td>0.00</td>\n",
       "      <td>0.076</td>\n",
       "      <td>34.0</td>\n",
       "      <td>0.99780</td>\n",
       "      <td>3.51</td>\n",
       "      <td>0.56</td>\n",
       "      <td>9.4</td>\n",
       "    </tr>\n",
       "    <tr>\n",
       "      <th>...</th>\n",
       "      <td>...</td>\n",
       "      <td>...</td>\n",
       "      <td>...</td>\n",
       "      <td>...</td>\n",
       "      <td>...</td>\n",
       "      <td>...</td>\n",
       "      <td>...</td>\n",
       "      <td>...</td>\n",
       "      <td>...</td>\n",
       "    </tr>\n",
       "    <tr>\n",
       "      <th>1591</th>\n",
       "      <td>6.2</td>\n",
       "      <td>0.600</td>\n",
       "      <td>0.08</td>\n",
       "      <td>0.090</td>\n",
       "      <td>44.0</td>\n",
       "      <td>0.99490</td>\n",
       "      <td>3.45</td>\n",
       "      <td>0.58</td>\n",
       "      <td>10.5</td>\n",
       "    </tr>\n",
       "    <tr>\n",
       "      <th>1592</th>\n",
       "      <td>5.9</td>\n",
       "      <td>0.550</td>\n",
       "      <td>0.10</td>\n",
       "      <td>0.062</td>\n",
       "      <td>51.0</td>\n",
       "      <td>0.99512</td>\n",
       "      <td>3.52</td>\n",
       "      <td>0.76</td>\n",
       "      <td>11.2</td>\n",
       "    </tr>\n",
       "    <tr>\n",
       "      <th>1593</th>\n",
       "      <td>6.3</td>\n",
       "      <td>0.510</td>\n",
       "      <td>0.13</td>\n",
       "      <td>0.076</td>\n",
       "      <td>40.0</td>\n",
       "      <td>0.99574</td>\n",
       "      <td>3.42</td>\n",
       "      <td>0.75</td>\n",
       "      <td>11.0</td>\n",
       "    </tr>\n",
       "    <tr>\n",
       "      <th>1594</th>\n",
       "      <td>5.9</td>\n",
       "      <td>0.645</td>\n",
       "      <td>0.12</td>\n",
       "      <td>0.075</td>\n",
       "      <td>44.0</td>\n",
       "      <td>0.99547</td>\n",
       "      <td>3.57</td>\n",
       "      <td>0.71</td>\n",
       "      <td>10.2</td>\n",
       "    </tr>\n",
       "    <tr>\n",
       "      <th>1595</th>\n",
       "      <td>6.0</td>\n",
       "      <td>0.310</td>\n",
       "      <td>0.47</td>\n",
       "      <td>0.067</td>\n",
       "      <td>42.0</td>\n",
       "      <td>0.99549</td>\n",
       "      <td>3.39</td>\n",
       "      <td>0.66</td>\n",
       "      <td>11.0</td>\n",
       "    </tr>\n",
       "  </tbody>\n",
       "</table>\n",
       "<p>1596 rows × 9 columns</p>\n",
       "</div>"
      ],
      "text/plain": [
       "      fixed acidity  volatile acidity  citric acid  chlorides  \\\n",
       "0               7.4             0.700         0.00      0.076   \n",
       "1               7.8             0.880         0.00      0.098   \n",
       "2               7.8             0.760         0.04      0.092   \n",
       "3              11.2             0.280         0.56      0.075   \n",
       "4               7.4             0.700         0.00      0.076   \n",
       "...             ...               ...          ...        ...   \n",
       "1591            6.2             0.600         0.08      0.090   \n",
       "1592            5.9             0.550         0.10      0.062   \n",
       "1593            6.3             0.510         0.13      0.076   \n",
       "1594            5.9             0.645         0.12      0.075   \n",
       "1595            6.0             0.310         0.47      0.067   \n",
       "\n",
       "      total sulfur dioxide  density    pH  sulphates  alcohol  \n",
       "0                     34.0  0.99780  3.51       0.56      9.4  \n",
       "1                     67.0  0.99680  3.20       0.68      9.8  \n",
       "2                     54.0  0.99700  3.26       0.65      9.8  \n",
       "3                     60.0  0.99800  3.16       0.58      9.8  \n",
       "4                     34.0  0.99780  3.51       0.56      9.4  \n",
       "...                    ...      ...   ...        ...      ...  \n",
       "1591                  44.0  0.99490  3.45       0.58     10.5  \n",
       "1592                  51.0  0.99512  3.52       0.76     11.2  \n",
       "1593                  40.0  0.99574  3.42       0.75     11.0  \n",
       "1594                  44.0  0.99547  3.57       0.71     10.2  \n",
       "1595                  42.0  0.99549  3.39       0.66     11.0  \n",
       "\n",
       "[1596 rows x 9 columns]"
      ]
     },
     "execution_count": 14,
     "metadata": {},
     "output_type": "execute_result"
    }
   ],
   "source": [
    "x"
   ]
  },
  {
   "cell_type": "code",
   "execution_count": 15,
   "id": "99fa72d1",
   "metadata": {},
   "outputs": [
    {
     "data": {
      "text/plain": [
       "0       5\n",
       "1       5\n",
       "2       5\n",
       "3       6\n",
       "4       5\n",
       "       ..\n",
       "1591    5\n",
       "1592    6\n",
       "1593    6\n",
       "1594    5\n",
       "1595    6\n",
       "Name: quality, Length: 1596, dtype: int64"
      ]
     },
     "execution_count": 15,
     "metadata": {},
     "output_type": "execute_result"
    }
   ],
   "source": [
    "y"
   ]
  },
  {
   "cell_type": "code",
   "execution_count": 16,
   "id": "ef9ef8d3",
   "metadata": {},
   "outputs": [],
   "source": [
    "x_train,x_test,y_train,y_test=train_test_split(x,y,random_state=3)"
   ]
  },
  {
   "cell_type": "code",
   "execution_count": 17,
   "id": "b3c0af91",
   "metadata": {},
   "outputs": [
    {
     "data": {
      "text/plain": [
       "(399,)"
      ]
     },
     "execution_count": 17,
     "metadata": {},
     "output_type": "execute_result"
    }
   ],
   "source": [
    "y_test.shape"
   ]
  },
  {
   "attachments": {},
   "cell_type": "markdown",
   "id": "cbeacdda",
   "metadata": {},
   "source": [
    "### fitting linear regression to training data"
   ]
  },
  {
   "cell_type": "code",
   "execution_count": 18,
   "id": "76febb8f",
   "metadata": {},
   "outputs": [
    {
     "data": {
      "text/html": [
       "<style>#sk-container-id-1 {color: black;background-color: white;}#sk-container-id-1 pre{padding: 0;}#sk-container-id-1 div.sk-toggleable {background-color: white;}#sk-container-id-1 label.sk-toggleable__label {cursor: pointer;display: block;width: 100%;margin-bottom: 0;padding: 0.3em;box-sizing: border-box;text-align: center;}#sk-container-id-1 label.sk-toggleable__label-arrow:before {content: \"▸\";float: left;margin-right: 0.25em;color: #696969;}#sk-container-id-1 label.sk-toggleable__label-arrow:hover:before {color: black;}#sk-container-id-1 div.sk-estimator:hover label.sk-toggleable__label-arrow:before {color: black;}#sk-container-id-1 div.sk-toggleable__content {max-height: 0;max-width: 0;overflow: hidden;text-align: left;background-color: #f0f8ff;}#sk-container-id-1 div.sk-toggleable__content pre {margin: 0.2em;color: black;border-radius: 0.25em;background-color: #f0f8ff;}#sk-container-id-1 input.sk-toggleable__control:checked~div.sk-toggleable__content {max-height: 200px;max-width: 100%;overflow: auto;}#sk-container-id-1 input.sk-toggleable__control:checked~label.sk-toggleable__label-arrow:before {content: \"▾\";}#sk-container-id-1 div.sk-estimator input.sk-toggleable__control:checked~label.sk-toggleable__label {background-color: #d4ebff;}#sk-container-id-1 div.sk-label input.sk-toggleable__control:checked~label.sk-toggleable__label {background-color: #d4ebff;}#sk-container-id-1 input.sk-hidden--visually {border: 0;clip: rect(1px 1px 1px 1px);clip: rect(1px, 1px, 1px, 1px);height: 1px;margin: -1px;overflow: hidden;padding: 0;position: absolute;width: 1px;}#sk-container-id-1 div.sk-estimator {font-family: monospace;background-color: #f0f8ff;border: 1px dotted black;border-radius: 0.25em;box-sizing: border-box;margin-bottom: 0.5em;}#sk-container-id-1 div.sk-estimator:hover {background-color: #d4ebff;}#sk-container-id-1 div.sk-parallel-item::after {content: \"\";width: 100%;border-bottom: 1px solid gray;flex-grow: 1;}#sk-container-id-1 div.sk-label:hover label.sk-toggleable__label {background-color: #d4ebff;}#sk-container-id-1 div.sk-serial::before {content: \"\";position: absolute;border-left: 1px solid gray;box-sizing: border-box;top: 0;bottom: 0;left: 50%;z-index: 0;}#sk-container-id-1 div.sk-serial {display: flex;flex-direction: column;align-items: center;background-color: white;padding-right: 0.2em;padding-left: 0.2em;position: relative;}#sk-container-id-1 div.sk-item {position: relative;z-index: 1;}#sk-container-id-1 div.sk-parallel {display: flex;align-items: stretch;justify-content: center;background-color: white;position: relative;}#sk-container-id-1 div.sk-item::before, #sk-container-id-1 div.sk-parallel-item::before {content: \"\";position: absolute;border-left: 1px solid gray;box-sizing: border-box;top: 0;bottom: 0;left: 50%;z-index: -1;}#sk-container-id-1 div.sk-parallel-item {display: flex;flex-direction: column;z-index: 1;position: relative;background-color: white;}#sk-container-id-1 div.sk-parallel-item:first-child::after {align-self: flex-end;width: 50%;}#sk-container-id-1 div.sk-parallel-item:last-child::after {align-self: flex-start;width: 50%;}#sk-container-id-1 div.sk-parallel-item:only-child::after {width: 0;}#sk-container-id-1 div.sk-dashed-wrapped {border: 1px dashed gray;margin: 0 0.4em 0.5em 0.4em;box-sizing: border-box;padding-bottom: 0.4em;background-color: white;}#sk-container-id-1 div.sk-label label {font-family: monospace;font-weight: bold;display: inline-block;line-height: 1.2em;}#sk-container-id-1 div.sk-label-container {text-align: center;}#sk-container-id-1 div.sk-container {/* jupyter's `normalize.less` sets `[hidden] { display: none; }` but bootstrap.min.css set `[hidden] { display: none !important; }` so we also need the `!important` here to be able to override the default hidden behavior on the sphinx rendered scikit-learn.org. See: https://github.com/scikit-learn/scikit-learn/issues/21755 */display: inline-block !important;position: relative;}#sk-container-id-1 div.sk-text-repr-fallback {display: none;}</style><div id=\"sk-container-id-1\" class=\"sk-top-container\"><div class=\"sk-text-repr-fallback\"><pre>LinearRegression()</pre><b>In a Jupyter environment, please rerun this cell to show the HTML representation or trust the notebook. <br />On GitHub, the HTML representation is unable to render, please try loading this page with nbviewer.org.</b></div><div class=\"sk-container\" hidden><div class=\"sk-item\"><div class=\"sk-estimator sk-toggleable\"><input class=\"sk-toggleable__control sk-hidden--visually\" id=\"sk-estimator-id-1\" type=\"checkbox\" checked><label for=\"sk-estimator-id-1\" class=\"sk-toggleable__label sk-toggleable__label-arrow\">LinearRegression</label><div class=\"sk-toggleable__content\"><pre>LinearRegression()</pre></div></div></div></div></div>"
      ],
      "text/plain": [
       "LinearRegression()"
      ]
     },
     "execution_count": 18,
     "metadata": {},
     "output_type": "execute_result"
    }
   ],
   "source": [
    "regressor = LinearRegression()\n",
    "regressor.fit(x_train,y_train)"
   ]
  },
  {
   "attachments": {},
   "cell_type": "markdown",
   "id": "7d728533",
   "metadata": {},
   "source": [
    "#### this gives the coefficients of the 10 features selected above."
   ]
  },
  {
   "cell_type": "code",
   "execution_count": 19,
   "id": "20ebcc39",
   "metadata": {},
   "outputs": [
    {
     "data": {
      "text/plain": [
       "array([ 3.25524263e-02, -1.11647933e+00, -3.56321901e-01, -1.27280869e+00,\n",
       "       -1.50990032e-03, -1.76557595e+01, -4.49209853e-01,  8.81410678e-01,\n",
       "        3.00039821e-01])"
      ]
     },
     "execution_count": 19,
     "metadata": {},
     "output_type": "execute_result"
    }
   ],
   "source": [
    "regressor.coef_"
   ]
  },
  {
   "cell_type": "code",
   "execution_count": 20,
   "id": "0267fd02",
   "metadata": {},
   "outputs": [
    {
     "data": {
      "text/plain": [
       "array([5.36262735, 6.0455248 , 6.37704645, ..., 6.31900633, 5.92219173,\n",
       "       6.25688339])"
      ]
     },
     "execution_count": 20,
     "metadata": {},
     "output_type": "execute_result"
    }
   ],
   "source": [
    "train_pred = regressor.predict(x_train)\n",
    "train_pred"
   ]
  },
  {
   "cell_type": "code",
   "execution_count": 23,
   "id": "5d6d9243",
   "metadata": {},
   "outputs": [
    {
     "data": {
      "text/plain": [
       "array([4.98224279, 5.55264983, 6.50787496, 5.24803289, 6.40101088,\n",
       "       6.41423262, 5.42988208, 6.1804428 , 5.04784628, 4.85348707,\n",
       "       5.40966404, 5.1359994 , 5.33769743, 5.30239795, 6.44294232,\n",
       "       5.03812492, 5.13528242, 5.75263035, 5.28566518, 5.25562678,\n",
       "       6.23127666, 6.69207852, 5.78330571, 5.52286247, 5.42591385,\n",
       "       5.56802076, 4.85348707, 5.11551512, 6.04277101, 6.35222229,\n",
       "       5.81399567, 5.08523847, 4.97167228, 5.43821889, 6.15790337,\n",
       "       5.65761909, 6.06260368, 5.27875505, 5.56467601, 4.94429931,\n",
       "       5.41077879, 5.22072106, 5.22525473, 6.03602124, 5.82650167,\n",
       "       5.18207479, 5.75595881, 5.83786086, 5.57337562, 6.22002025,\n",
       "       4.98584166, 5.30644459, 5.6074097 , 4.6845693 , 5.14766763,\n",
       "       4.78434794, 6.32484153, 5.65630772, 6.07618149, 5.5347906 ,\n",
       "       5.38628931, 4.92240014, 6.14168126, 5.59104378, 4.99297579,\n",
       "       4.95243522, 5.4193248 , 5.26558021, 6.42441301, 5.07127635,\n",
       "       6.19497619, 5.71028361, 5.58262028, 6.17079625, 4.95537029,\n",
       "       5.19460088, 5.68455704, 5.44527276, 5.39697969, 5.62603607,\n",
       "       5.81418911, 4.68389185, 5.47195714, 5.30174008, 5.31097825,\n",
       "       5.7678597 , 6.54356939, 6.36561856, 5.63611297, 5.43115489,\n",
       "       5.72046884, 5.32758885, 5.02634886, 5.4072748 , 5.82231976,\n",
       "       5.82660369, 5.61764548, 5.02864354, 6.16159292, 5.62363966,\n",
       "       6.48420379, 6.38584203, 5.91196756, 5.3445539 , 6.24998573,\n",
       "       5.22730018, 6.00005001, 5.88339857, 6.97187852, 4.72079236,\n",
       "       5.46725047, 6.48996206, 5.12712782, 5.31685781, 5.4227638 ,\n",
       "       6.06315231, 6.27233871, 5.30226086, 5.75630754, 5.81726496,\n",
       "       5.36208253, 6.33718767, 5.7291329 , 5.79763434, 5.71772481,\n",
       "       5.68745846, 5.03927243, 4.83980675, 5.38127609, 6.24974313,\n",
       "       5.27824279, 5.63730838, 5.52252957, 5.16182214, 5.81302269,\n",
       "       5.08204879, 5.33107383, 6.56842242, 6.85243769, 6.31474707,\n",
       "       5.26451188, 5.21300192, 5.66792844, 6.23691922, 6.381175  ,\n",
       "       6.11397982, 5.78105048, 5.03540785, 5.39100119, 5.17796318,\n",
       "       6.04986396, 5.24317185, 5.45792364, 6.67870058, 6.09738127,\n",
       "       4.93151197, 5.556099  , 5.9418674 , 6.09785542, 6.45218651,\n",
       "       5.520357  , 4.98343027, 6.17921825, 5.36083203, 5.03965447,\n",
       "       5.46431626, 6.16464157, 5.91831862, 5.19899739, 5.89077718,\n",
       "       6.39694746, 6.72686109, 5.87524987, 4.74304405, 5.75072497,\n",
       "       6.19434936, 6.44671325, 5.19119743, 5.49566787, 5.09724329,\n",
       "       6.56795025, 5.01431279, 5.36212972, 5.49729429, 5.33372092,\n",
       "       5.96910952, 5.2746247 , 5.00513748, 5.88916488, 6.46414553,\n",
       "       6.09776984, 6.22229777, 5.37077673, 5.05331471, 5.12650481,\n",
       "       5.46309223, 5.74595676, 4.89020687, 5.62297913, 5.20325108,\n",
       "       5.32417024, 5.19075968, 5.81552886, 5.43115489, 5.51682393,\n",
       "       5.89077718, 5.31203665, 4.8216507 , 6.29440222, 5.35640667,\n",
       "       5.75711699, 6.55655041, 6.19147038, 6.04967149, 5.91013148,\n",
       "       6.45205174, 5.13963433, 5.72864882, 5.66566867, 6.51813162,\n",
       "       6.54014417, 5.61764548, 6.06193859, 6.59397994, 5.1960211 ,\n",
       "       6.49195377, 6.2748926 , 6.06501843, 5.2189398 , 5.60672605,\n",
       "       5.81418911, 6.42004132, 5.33937877, 5.87921716, 6.27885607,\n",
       "       5.29151012, 5.5892572 , 5.98558911, 6.15371076, 5.81367885,\n",
       "       5.41766955, 5.29906894, 5.77600354, 5.18289687, 6.07228743,\n",
       "       5.26821768, 4.67991809, 5.04588869, 5.31774821, 6.08522992,\n",
       "       5.68110087, 6.2673053 , 6.34041599, 4.98362144, 5.17796318,\n",
       "       5.5608973 , 5.88985052, 5.20610183, 6.06788915, 4.77330632,\n",
       "       5.6562932 , 6.16608724, 5.48912381, 6.05156716, 5.31048728,\n",
       "       5.18418626, 5.38852613, 5.53132264, 5.75562841, 5.79692263,\n",
       "       5.52936933, 5.37067456, 5.7927241 , 5.61634433, 5.14674297,\n",
       "       6.27446282, 6.91591481, 6.53425323, 5.66325604, 5.22613468,\n",
       "       6.47173951, 5.1293959 , 6.21418691, 5.080898  , 5.10734154,\n",
       "       5.27351879, 5.41463571, 5.60435355, 4.90061708, 5.18907277,\n",
       "       5.83124321, 5.5177005 , 5.72414257, 5.18586934, 5.37187124,\n",
       "       6.30342278, 4.90795621, 5.080898  , 5.95400253, 5.02400743,\n",
       "       5.71130899, 5.78166119, 5.59151705, 5.31559345, 6.11717543,\n",
       "       5.36120255, 6.27233871, 5.15504713, 6.54531513, 5.20215462,\n",
       "       5.18891039, 5.32650511, 5.89324471, 5.30857065, 6.0569492 ,\n",
       "       5.09142678, 5.35286843, 5.17921359, 5.46777996, 5.97399632,\n",
       "       5.50247815, 6.01605059, 5.0208306 , 5.92014656, 5.37980206,\n",
       "       5.27307946, 5.90401581, 4.95569215, 6.33650428, 5.72832469,\n",
       "       6.02644617, 4.92814985, 5.8242047 , 5.16344986, 6.06327501,\n",
       "       5.69867987, 6.10804963, 5.62567359, 5.49673828, 5.52252957,\n",
       "       5.38946931, 5.39349248, 5.55061751, 6.66090896, 6.43932282,\n",
       "       5.78105048, 5.32528128, 5.39518763, 6.22063498, 5.18418626,\n",
       "       5.38907636, 5.13129117, 5.22389615, 5.14873364, 6.48904484,\n",
       "       6.04974777, 5.5347906 , 6.50186768, 6.13984308, 5.34510143,\n",
       "       5.5892533 , 6.51542909, 5.1960211 , 5.34986322, 6.50787496,\n",
       "       5.20382379, 5.09779049, 6.10619516, 6.09107486, 5.20604519,\n",
       "       5.444532  , 5.03034101, 5.1985735 , 5.5517714 , 6.62420867,\n",
       "       5.35416935, 5.28014265, 5.37702945, 6.08892389, 5.31115737,\n",
       "       5.31354801, 5.90389096, 5.44653918, 5.14175678, 5.24670586,\n",
       "       5.93544247, 4.82254168, 6.41651549, 6.60662604, 6.22139759,\n",
       "       5.94428013, 5.46258376, 5.38634865, 5.39521733, 4.97229456,\n",
       "       5.41910079, 4.94104344, 5.28985361, 5.3273224 ])"
      ]
     },
     "execution_count": 23,
     "metadata": {},
     "output_type": "execute_result"
    }
   ],
   "source": [
    "from sklearn.metrics import mean_squared_error\n",
    "\n",
    "test_pred = regressor.predict(x_test)\n",
    "test_pred"
   ]
  },
  {
   "cell_type": "code",
   "execution_count": 24,
   "id": "d03a0eed",
   "metadata": {},
   "outputs": [
    {
     "data": {
      "text/plain": [
       "0.6469968561267716"
      ]
     },
     "execution_count": 24,
     "metadata": {},
     "output_type": "execute_result"
    }
   ],
   "source": [
    "train_rmse = mean_squared_error(train_pred, y_train) ** 0.5\n",
    "train_rmse"
   ]
  },
  {
   "cell_type": "code",
   "execution_count": 25,
   "id": "ee0b4d2f",
   "metadata": {},
   "outputs": [
    {
     "data": {
      "text/plain": [
       "0.6329179303437428"
      ]
     },
     "execution_count": 25,
     "metadata": {},
     "output_type": "execute_result"
    }
   ],
   "source": [
    "test_rmse = mean_squared_error(test_pred, y_test) ** 0.5\n",
    "test_rmse"
   ]
  },
  {
   "attachments": {},
   "cell_type": "markdown",
   "id": "ebbf6183",
   "metadata": {},
   "source": [
    "### rounding off the predicted values for test set"
   ]
  },
  {
   "cell_type": "code",
   "execution_count": 26,
   "id": "8ffca5e7",
   "metadata": {},
   "outputs": [
    {
     "data": {
      "text/plain": [
       "array([5., 6., 7., 5., 6., 6., 5., 6., 5., 5., 5., 5., 5., 5., 6., 5., 5.,\n",
       "       6., 5., 5., 6., 7., 6., 6., 5., 6., 5., 5., 6., 6., 6., 5., 5., 5.,\n",
       "       6., 6., 6., 5., 6., 5., 5., 5., 5., 6., 6., 5., 6., 6., 6., 6., 5.,\n",
       "       5., 6., 5., 5., 5., 6., 6., 6., 6., 5., 5., 6., 6., 5., 5., 5., 5.,\n",
       "       6., 5., 6., 6., 6., 6., 5., 5., 6., 5., 5., 6., 6., 5., 5., 5., 5.,\n",
       "       6., 7., 6., 6., 5., 6., 5., 5., 5., 6., 6., 6., 5., 6., 6., 6., 6.,\n",
       "       6., 5., 6., 5., 6., 6., 7., 5., 5., 6., 5., 5., 5., 6., 6., 5., 6.,\n",
       "       6., 5., 6., 6., 6., 6., 6., 5., 5., 5., 6., 5., 6., 6., 5., 6., 5.,\n",
       "       5., 7., 7., 6., 5., 5., 6., 6., 6., 6., 6., 5., 5., 5., 6., 5., 5.,\n",
       "       7., 6., 5., 6., 6., 6., 6., 6., 5., 6., 5., 5., 5., 6., 6., 5., 6.,\n",
       "       6., 7., 6., 5., 6., 6., 6., 5., 5., 5., 7., 5., 5., 5., 5., 6., 5.,\n",
       "       5., 6., 6., 6., 6., 5., 5., 5., 5., 6., 5., 6., 5., 5., 5., 6., 5.,\n",
       "       6., 6., 5., 5., 6., 5., 6., 7., 6., 6., 6., 6., 5., 6., 6., 7., 7.,\n",
       "       6., 6., 7., 5., 6., 6., 6., 5., 6., 6., 6., 5., 6., 6., 5., 6., 6.,\n",
       "       6., 6., 5., 5., 6., 5., 6., 5., 5., 5., 5., 6., 6., 6., 6., 5., 5.,\n",
       "       6., 6., 5., 6., 5., 6., 6., 5., 6., 5., 5., 5., 6., 6., 6., 6., 5.,\n",
       "       6., 6., 5., 6., 7., 7., 6., 5., 6., 5., 6., 5., 5., 5., 5., 6., 5.,\n",
       "       5., 6., 6., 6., 5., 5., 6., 5., 5., 6., 5., 6., 6., 6., 5., 6., 5.,\n",
       "       6., 5., 7., 5., 5., 5., 6., 5., 6., 5., 5., 5., 5., 6., 6., 6., 5.,\n",
       "       6., 5., 5., 6., 5., 6., 6., 6., 5., 6., 5., 6., 6., 6., 6., 5., 6.,\n",
       "       5., 5., 6., 7., 6., 6., 5., 5., 6., 5., 5., 5., 5., 5., 6., 6., 6.,\n",
       "       7., 6., 5., 6., 7., 5., 5., 7., 5., 5., 6., 6., 5., 5., 5., 5., 6.,\n",
       "       7., 5., 5., 5., 6., 5., 5., 6., 5., 5., 5., 6., 5., 6., 7., 6., 6.,\n",
       "       5., 5., 5., 5., 5., 5., 5., 5.])"
      ]
     },
     "execution_count": 26,
     "metadata": {},
     "output_type": "execute_result"
    }
   ],
   "source": [
    "predicted_data = np.round_(test_pred)\n",
    "predicted_data"
   ]
  },
  {
   "cell_type": "code",
   "execution_count": 27,
   "id": "dda7468f",
   "metadata": {},
   "outputs": [
    {
     "name": "stdout",
     "output_type": "stream",
     "text": [
      "Mean Absolute Error: 0.5035500150166764\n",
      "Mean Squared Error: 0.40058510655060686\n",
      "Root Mean Squared Error: 0.6329179303437428\n"
     ]
    }
   ],
   "source": [
    "print('Mean Absolute Error:', metrics.mean_absolute_error(y_test, test_pred))\n",
    "print('Mean Squared Error:', metrics.mean_squared_error(y_test, test_pred))\n",
    "print('Root Mean Squared Error:', np.sqrt(metrics.mean_squared_error(y_test, test_pred)))"
   ]
  },
  {
   "cell_type": "code",
   "execution_count": 28,
   "id": "99f3a6f5",
   "metadata": {},
   "outputs": [
    {
     "data": {
      "text/html": [
       "<div>\n",
       "<style scoped>\n",
       "    .dataframe tbody tr th:only-of-type {\n",
       "        vertical-align: middle;\n",
       "    }\n",
       "\n",
       "    .dataframe tbody tr th {\n",
       "        vertical-align: top;\n",
       "    }\n",
       "\n",
       "    .dataframe thead th {\n",
       "        text-align: right;\n",
       "    }\n",
       "</style>\n",
       "<table border=\"1\" class=\"dataframe\">\n",
       "  <thead>\n",
       "    <tr style=\"text-align: right;\">\n",
       "      <th></th>\n",
       "      <th>Coeffecient</th>\n",
       "    </tr>\n",
       "  </thead>\n",
       "  <tbody>\n",
       "    <tr>\n",
       "      <th>fixed acidity</th>\n",
       "      <td>0.032552</td>\n",
       "    </tr>\n",
       "    <tr>\n",
       "      <th>volatile acidity</th>\n",
       "      <td>-1.116479</td>\n",
       "    </tr>\n",
       "    <tr>\n",
       "      <th>citric acid</th>\n",
       "      <td>-0.356322</td>\n",
       "    </tr>\n",
       "    <tr>\n",
       "      <th>chlorides</th>\n",
       "      <td>-1.272809</td>\n",
       "    </tr>\n",
       "    <tr>\n",
       "      <th>total sulfur dioxide</th>\n",
       "      <td>-0.001510</td>\n",
       "    </tr>\n",
       "    <tr>\n",
       "      <th>density</th>\n",
       "      <td>-17.655760</td>\n",
       "    </tr>\n",
       "    <tr>\n",
       "      <th>pH</th>\n",
       "      <td>-0.449210</td>\n",
       "    </tr>\n",
       "    <tr>\n",
       "      <th>sulphates</th>\n",
       "      <td>0.881411</td>\n",
       "    </tr>\n",
       "    <tr>\n",
       "      <th>alcohol</th>\n",
       "      <td>0.300040</td>\n",
       "    </tr>\n",
       "  </tbody>\n",
       "</table>\n",
       "</div>"
      ],
      "text/plain": [
       "                      Coeffecient\n",
       "fixed acidity            0.032552\n",
       "volatile acidity        -1.116479\n",
       "citric acid             -0.356322\n",
       "chlorides               -1.272809\n",
       "total sulfur dioxide    -0.001510\n",
       "density                -17.655760\n",
       "pH                      -0.449210\n",
       "sulphates                0.881411\n",
       "alcohol                  0.300040"
      ]
     },
     "execution_count": 28,
     "metadata": {},
     "output_type": "execute_result"
    }
   ],
   "source": [
    "coeffecients = pd.DataFrame(regressor.coef_,features)\n",
    "coeffecients.columns = ['Coeffecient']\n",
    "coeffecients"
   ]
  },
  {
   "attachments": {},
   "cell_type": "markdown",
   "id": "ab4ec2e7",
   "metadata": {},
   "source": [
    "###These numbers mean that holding all other features fixed, a 1 unit increase in suplhates will lead to an increase of 0.8 in Quality of wine, and similarly for the other features\n",
    "#These numbers mean that holding all other features fixed, a 1 unit increase in volatile acidity will lead to a decrease of 0.99 in Quality of wine, and simil"
   ]
  },
  {
   "cell_type": "code",
   "execution_count": null,
   "id": "6b594ea7",
   "metadata": {},
   "outputs": [],
   "source": []
  }
 ],
 "metadata": {
  "kernelspec": {
   "display_name": "Python 3 (ipykernel)",
   "language": "python",
   "name": "python3"
  },
  "language_info": {
   "codemirror_mode": {
    "name": "ipython",
    "version": 3
   },
   "file_extension": ".py",
   "mimetype": "text/x-python",
   "name": "python",
   "nbconvert_exporter": "python",
   "pygments_lexer": "ipython3",
   "version": "3.9.16"
  }
 },
 "nbformat": 4,
 "nbformat_minor": 5
}
